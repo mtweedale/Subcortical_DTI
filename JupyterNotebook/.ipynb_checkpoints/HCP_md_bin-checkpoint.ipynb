{
 "cells": [
  {
   "cell_type": "code",
   "execution_count": 1,
   "id": "94aabc01-4654-4418-a79a-77f8891163b9",
   "metadata": {
    "collapsed": true,
    "jupyter": {
     "outputs_hidden": true
    },
    "tags": []
   },
   "outputs": [
    {
     "name": "stderr",
     "output_type": "stream",
     "text": [
      "\n",
      "Attaching package: ‘dplyr’\n",
      "\n",
      "\n",
      "The following objects are masked from ‘package:stats’:\n",
      "\n",
      "    filter, lag\n",
      "\n",
      "\n",
      "The following objects are masked from ‘package:base’:\n",
      "\n",
      "    intersect, setdiff, setequal, union\n",
      "\n",
      "\n",
      "oro.nifti 0.11.4\n",
      "\n",
      "\n",
      "Attaching package: ‘oro.nifti’\n",
      "\n",
      "\n",
      "The following object is masked from ‘package:dplyr’:\n",
      "\n",
      "    slice\n",
      "\n",
      "\n",
      "The following object is masked from ‘package:RNifti’:\n",
      "\n",
      "    origin\n",
      "\n",
      "\n"
     ]
    }
   ],
   "source": [
    "# Load necessary packages\n",
    "library(RNifti)\n",
    "library(dplyr)\n",
    "library(oro.nifti)"
   ]
  },
  {
   "cell_type": "code",
   "execution_count": 2,
   "id": "a9d35e81-bcf4-4f68-9712-181c44f5d832",
   "metadata": {},
   "outputs": [],
   "source": [
    "# Create necessary data frames\n",
    "results_dir <- \"scratch/tractoflow_hcp_dwi/results/\"\n",
    "patients <- list.files(results_dir, full.names = TRUE)\n",
    "patients <- patients[grep(\"^\\\\d{6}$\", basename(patients))]\n",
    "patient_data <- read.csv(\"scratch/tractoflow_hcp_dwi/patient_data.csv\")\n",
    "patient_data_gender <- read.csv(\"scratch/tractoflow_hcp_dwi/patient_data_gender.csv\")\n",
    "subj_data <- patient_data[c(\"Subject\", \"Age_in_Yrs\", \"BMI\")]\n",
    "subj_data_gender <- patient_data_gender[c(\"Subject\", \"Gender\")]\n",
    "subj_data=merge(subj_data, subj_data_gender)\n",
    "\n",
    "# Define variable to extract hypothalamic values\n",
    "rois <- c(\"md_anterior_hypothalamic_area\", \"md_arcuate_hypothalamic_nucleus\", \"md_dorsal_periventricular_hypothalamic_nucleus\", \"md_dorsomedial_hypothalamic_nucleus\", \"md_lateral_hypothalamus\", \"md_mammillary_bodies\", \"md_medial_preoptic_nucleus\", \"md_paraventricular_nucleus\", \"md_periventricular_hypothalamic_nucleus\", \"md_posterior_hypothalamic_nucleus\", \"md_suprachiasmatic_hypothalamic_nucleus\", \"md_supraoptic_hypothalamic_nucleus\", \"md_tuberomammillary_hypothalamic_nucleus\", \"md_ventromedial_hypothalamus\")\n",
    "rois_all <- c(\"md_anterior_hypothalamic_area_lh\", \"md_arcuate_hypothalamic_nucleus_lh\", \"md_dorsal_periventricular_hypothalamic_nucleus_lh\", \"md_dorsomedial_hypothalamic_nucleus_lh\", \"md_lateral_hypothalamus_lh\", \"md_mammillary_bodies_lh\", \"md_medial_preoptic_nucleus_lh\", \"md_paraventricular_nucleus_lh\", \"md_periventricular_hypothalamic_nucleus_lh\", \"md_posterior_hypothalamic_nucleus_lh\", \"md_suprachiasmatic_hypothalamic_nucleus_lh\", \"md_supraoptic_hypothalamic_nucleus_lh\", \"md_tuberomammillary_hypothalamic_nucleus_lh\", \"md_ventromedial_hypothalamus_lh\",\"md_anterior_hypothalamic_area_rh\", \"md_arcuate_hypothalamic_nucleus_rh\", \"md_dorsal_periventricular_hypothalamic_nucleus_rh\", \"md_dorsomedial_hypothalamic_nucleus_rh\", \"md_lateral_hypothalamus_rh\", \"md_mammillary_bodies_rh\", \"md_medial_preoptic_nucleus_rh\", \"md_paraventricular_nucleus_rh\", \"md_periventricular_hypothalamic_nucleus_rh\", \"md_posterior_hypothalamic_nucleus_rh\", \"md_suprachiasmatic_hypothalamic_nucleus_rh\", \"md_supraoptic_hypothalamic_nucleus_rh\", \"md_tuberomammillary_hypothalamic_nucleus_rh\", \"md_ventromedial_hypothalamus_rh\")"
   ]
  },
  {
   "cell_type": "code",
   "execution_count": 3,
   "id": "1d2372a8-f384-4d32-8b5f-dfe7cfced67b",
   "metadata": {},
   "outputs": [],
   "source": [
    "# Create empty data frame\n",
    "roi_data <- data.frame(Subject=character(0))\n",
    "\n",
    "# Loop through each patient\n",
    "for (i in 1:length(patients)) {\n",
    "    # Define necessary lists\n",
    "    var_names_lh <-list()\n",
    "    var_names_rh <-list()\n",
    "    data_lh <-list()\n",
    "    data_rh <-list()\n",
    "    avg_vals <- list()\n",
    "    \n",
    "    # Loop through each ROI\n",
    "    for (roi in 1:length(rois)) {\n",
    "        # Predefining the first column values\n",
    "        if (i==1) {\n",
    "            roi_data[[rois[roi]]] <- numeric(0)\n",
    "        }\n",
    "        # Define paths to left and right hemisphere of ROI\n",
    "        var_names_lh[[roi]] <- file.path(\"scratch\", \"tractoflow_hcp_dwi\", \"subject_rois_bin\", basename(patients[i]), \"md_rois\", paste0(basename(patients[i]), \"_\", rois[roi], \"_lh_resampled.nii.gz\"))\n",
    "        var_names_rh[[roi]] <- file.path(\"scratch\", \"tractoflow_hcp_dwi\", \"subject_rois_bin\", basename(patients[i]), \"md_rois\", paste0(basename(patients[i]), \"_\", rois[roi], \"_rh_resampled.nii.gz\"))\n",
    "        # Read the NIfTI file paths\n",
    "        data_lh[[roi]] <- readNifti(var_names_lh[[roi]])\n",
    "        data_rh[[roi]] <- readNifti(var_names_rh[[roi]])\n",
    "        # Define and extract all values above 0 of the NIfTI ROI\n",
    "        non_zero_vals_lh <- data_lh[[roi]]\n",
    "        non_zero_vals_rh <- data_rh[[roi]]\n",
    "        non_zero_vals_lh <- non_zero_vals_lh[non_zero_vals_lh > 0]\n",
    "        non_zero_vals_rh <- non_zero_vals_rh[non_zero_vals_rh > 0]\n",
    "        # Calculate ROI average value and append it to the data frame\n",
    "        avg_val <- (mean(non_zero_vals_lh)+mean(non_zero_vals_rh))/2\n",
    "        avg_vals <- append(avg_vals, avg_val)\n",
    "        temp_data <- data.frame(Subject=basename(patients[i]), avg_vals)\n",
    "    }\n",
    "    # Define column names and bind data calculated in the for loop\n",
    "    colnames(temp_data)=c(\"Subject\", rois)\n",
    "    roi_data <- rbind(roi_data, temp_data)\n",
    "}\n",
    "# Merge hypothalamic values with patient data and write as CSV\n",
    "subj_data <- merge(subj_data, roi_data)\n",
    "write.csv(subj_data, \"scratch/tractoflow_hcp_dwi/linear_regression/HCP_md_data_bin.csv\")"
   ]
  }
 ],
 "metadata": {
  "kernelspec": {
   "display_name": "R",
   "language": "R",
   "name": "ir"
  },
  "language_info": {
   "codemirror_mode": "r",
   "file_extension": ".r",
   "mimetype": "text/x-r-source",
   "name": "R",
   "pygments_lexer": "r",
   "version": "4.3.1"
  }
 },
 "nbformat": 4,
 "nbformat_minor": 5
}
