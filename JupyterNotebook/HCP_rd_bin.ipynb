{
 "cells": [
  {
   "cell_type": "code",
   "execution_count": 1,
   "id": "f2bea16f-91ca-40ad-bd02-ddcb5e7cd745",
   "metadata": {
    "collapsed": true,
    "jupyter": {
     "outputs_hidden": true
    },
    "tags": []
   },
   "outputs": [
    {
     "name": "stderr",
     "output_type": "stream",
     "text": [
      "\n",
      "Attaching package: ‘dplyr’\n",
      "\n",
      "\n",
      "The following objects are masked from ‘package:stats’:\n",
      "\n",
      "    filter, lag\n",
      "\n",
      "\n",
      "The following objects are masked from ‘package:base’:\n",
      "\n",
      "    intersect, setdiff, setequal, union\n",
      "\n",
      "\n",
      "oro.nifti 0.11.4\n",
      "\n",
      "\n",
      "Attaching package: ‘oro.nifti’\n",
      "\n",
      "\n",
      "The following object is masked from ‘package:dplyr’:\n",
      "\n",
      "    slice\n",
      "\n",
      "\n",
      "The following object is masked from ‘package:RNifti’:\n",
      "\n",
      "    origin\n",
      "\n",
      "\n"
     ]
    }
   ],
   "source": [
    "library(RNifti)\n",
    "library(dplyr)\n",
    "library(oro.nifti)"
   ]
  },
  {
   "cell_type": "code",
   "execution_count": 2,
   "id": "db683ce2-1de0-4cb4-9671-ba096f26c6fa",
   "metadata": {},
   "outputs": [],
   "source": [
    "results_dir <- \"scratch/tractoflow_hcp_dwi/results/\"\n",
    "patients <- list.files(results_dir, full.names = TRUE)\n",
    "patients <- patients[grep(\"^\\\\d{6}$\", basename(patients))]\n",
    "patient_data <- read.csv(\"scratch/tractoflow_hcp_dwi/patient_data.csv\")\n",
    "patient_data_gender <- read.csv(\"scratch/tractoflow_hcp_dwi/patient_data_gender.csv\")\n",
    "subj_data <- patient_data[c(\"Subject\", \"Age_in_Yrs\", \"BMI\")]\n",
    "subj_data_gender <- patient_data_gender[c(\"Subject\", \"Gender\")]\n",
    "subj_data=merge(subj_data, subj_data_gender)\n",
    "rois <- c(\"rd_anterior_hypothalamic_area\", \"rd_arcuate_hypothalamic_nucleus\", \"rd_dorsal_periventricular_hypothalamic_nucleus\", \"rd_dorsomedial_hypothalamic_nucleus\", \"rd_lateral_hypothalamus\", \"rd_mammillary_bodies\", \"rd_medial_preoptic_nucleus\", \"rd_paraventricular_nucleus\", \"rd_periventricular_hypothalamic_nucleus\", \"rd_posterior_hypothalamic_nucleus\", \"rd_suprachiasmatic_hypothalamic_nucleus\", \"rd_supraoptic_hypothalamic_nucleus\", \"rd_tuberomammillary_hypothalamic_nucleus\", \"rd_ventromedial_hypothalamus\")"
   ]
  },
  {
   "cell_type": "code",
   "execution_count": 3,
   "id": "474946d7-460c-4da6-b73d-8f594b717921",
   "metadata": {
    "tags": []
   },
   "outputs": [],
   "source": [
    "roi_data <- data.frame(Subject=character(0))\n",
    "for (i in 1:length(patients)) {\n",
    "    var_names_lh <-list()\n",
    "    var_names_rh <-list()\n",
    "    data_lh <-list()\n",
    "    data_rh <-list()\n",
    "    avg_vals <- list()\n",
    "    for (roi in 1:length(rois)) {\n",
    "        if (i==1) {\n",
    "            roi_data[[rois[roi]]] <- numeric(0)\n",
    "        }\n",
    "        var_names_lh[[roi]] <- file.path(\"scratch\", \"tractoflow_hcp_dwi\", \"subject_rois_bin\", basename(patients[i]), \"rd_rois\", paste0(basename(patients[i]), \"_\", rois[roi], \"_lh_resampled.nii.gz\"))\n",
    "        var_names_rh[[roi]] <- file.path(\"scratch\", \"tractoflow_hcp_dwi\", \"subject_rois_bin\", basename(patients[i]), \"rd_rois\", paste0(basename(patients[i]), \"_\", rois[roi], \"_rh_resampled.nii.gz\"))\n",
    "        data_lh[[roi]] <- readNifti(var_names_lh[[roi]])\n",
    "        data_rh[[roi]] <- readNifti(var_names_rh[[roi]])\n",
    "        non_zero_vals_lh <- data_lh[[roi]]\n",
    "        non_zero_vals_rh <- data_rh[[roi]]\n",
    "        non_zero_vals_lh <- non_zero_vals_lh[non_zero_vals_lh > 0]\n",
    "        non_zero_vals_rh <- non_zero_vals_rh[non_zero_vals_rh > 0]\n",
    "        avg_val <- (mean(non_zero_vals_lh)+mean(non_zero_vals_rh))/2\n",
    "        avg_vals <- append(avg_vals, avg_val)\n",
    "        temp_data <- data.frame(Subject=basename(patients[i]), avg_vals)\n",
    "    }\n",
    "    colnames(temp_data)=c(\"Subject\", rois)\n",
    "    roi_data <- rbind(roi_data, temp_data)\n",
    "}\n",
    "subj_data <- merge(subj_data, roi_data)\n",
    "write.csv(subj_data, \"scratch/tractoflow_hcp_dwi/linear_regression/HCP_rd_data_bin.csv\")"
   ]
  }
 ],
 "metadata": {
  "kernelspec": {
   "display_name": "R",
   "language": "R",
   "name": "ir"
  },
  "language_info": {
   "codemirror_mode": "r",
   "file_extension": ".r",
   "mimetype": "text/x-r-source",
   "name": "R",
   "pygments_lexer": "r",
   "version": "4.3.1"
  }
 },
 "nbformat": 4,
 "nbformat_minor": 5
}
