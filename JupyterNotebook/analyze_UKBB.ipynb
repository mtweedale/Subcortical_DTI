{
 "cells": [
  {
   "cell_type": "code",
   "execution_count": 1,
   "id": "9317ccfa-d0ed-46cc-8318-b6204b08338e",
   "metadata": {
    "tags": []
   },
   "outputs": [
    {
     "name": "stderr",
     "output_type": "stream",
     "text": [
      "\n",
      "Attaching package: ‘psych’\n",
      "\n",
      "\n",
      "The following objects are masked from ‘package:ggplot2’:\n",
      "\n",
      "    %+%, alpha\n",
      "\n",
      "\n",
      "\n",
      "Attaching package: ‘dplyr’\n",
      "\n",
      "\n",
      "The following objects are masked from ‘package:stats’:\n",
      "\n",
      "    filter, lag\n",
      "\n",
      "\n",
      "The following objects are masked from ‘package:base’:\n",
      "\n",
      "    intersect, setdiff, setequal, union\n",
      "\n",
      "\n",
      "\n",
      "Attaching package: ‘plotrix’\n",
      "\n",
      "\n",
      "The following object is masked from ‘package:psych’:\n",
      "\n",
      "    rescale\n",
      "\n",
      "\n"
     ]
    }
   ],
   "source": [
    "# Download necessary packages\n",
    "library(ggplot2)\n",
    "library(psych)\n",
    "library(dplyr)\n",
    "library(fmsb)\n",
    "library(ggradar)\n",
    "library(plotrix)"
   ]
  },
  {
   "cell_type": "code",
   "execution_count": 2,
   "id": "1f41d9d0-ccb6-43b8-acb3-804ffe4f72da",
   "metadata": {},
   "outputs": [],
   "source": [
    "# Extract patient data and patient ROI data\n",
    "data <- read.csv(\"~/scratch//tractoflow_hcp_dwi/UKB_WM_Regionwise_Data_allAtlases_allMeasures.csv\")\n",
    "patient_data <- read.csv(\"~/scratch//tractoflow_hcp_dwi/UKBB_patient_data.csv\")"
   ]
  },
  {
   "cell_type": "code",
   "execution_count": 107,
   "id": "d21cb6a9-0d2b-4ce4-ab3c-2268a31bf11c",
   "metadata": {},
   "outputs": [],
   "source": [
    "# Subset data frame based on DTI measure\n",
    "ad_all_data <- data[data$WM_Measure == 'AD', ]\n",
    "fa_all_data <- data[data$WM_Measure == 'FA', ]\n",
    "md_all_data <- data[data$WM_Measure == 'MD', ]\n",
    "rd_all_data <- data[data$WM_Measure == 'RD', ]"
   ]
  },
  {
   "cell_type": "code",
   "execution_count": 108,
   "id": "8a659ae2-165f-45de-bfe6-0d43e4237550",
   "metadata": {},
   "outputs": [],
   "source": [
    "# Find all unique values per DTI-based data frame\n",
    "vec1 <- unique(ad_all_data$Subject_ID)\n",
    "vec2 <- unique(fa_all_data$Subject_ID)\n",
    "vec3 <- unique(md_all_data$Subject_ID)\n",
    "vec4 <- unique(rd_all_data$Subject_ID)\n",
    "\n",
    "# Find the values that are in vec1 but not in vec2\n",
    "missing_in_df2 <- setdiff(vec1, vec2)\n",
    "\n",
    "# Find the values that are in vec2 but not in vec1\n",
    "missing_in_df1 <- setdiff(vec2, vec1)\n",
    "\n",
    "# Find the values that are in vec3 but not in vec4\n",
    "missing_in_df4 <- setdiff(vec3, vec4)\n",
    "\n",
    "# Find the values that are in vec4 but not in vec3\n",
    "missing_in_df3 <- setdiff(vec4, vec3)\n",
    "\n",
    "# Combine the missing values from both directions\n",
    "all_missing_values <- unique(c(missing_in_df1, missing_in_df2, missing_in_df3, missing_in_df4))"
   ]
  },
  {
   "cell_type": "code",
   "execution_count": 109,
   "id": "6fec8e0c-d722-43d6-873d-6c4b96892ae3",
   "metadata": {},
   "outputs": [],
   "source": [
    "indices_to_remove_df1 <- which(fa_all_data$Subject_ID %in% all_missing_values)\n",
    "\n",
    "# Remove rows from df1\n",
    "fa_all_data <- fa_all_data[-indices_to_remove_df1, ]\n",
    "\n",
    "# Find the indices of rows to be removed in df2\n",
    "indices_to_remove_df2 <- which(md_all_data$Subject_ID %in% all_missing_values)\n",
    "\n",
    "# Remove rows from df2\n",
    "md_all_data <- md_all_data[-indices_to_remove_df2, ]\n",
    "\n",
    "# Find the indices of rows to be removed in df3\n",
    "indices_to_remove_df3 <- which(rd_all_data$Subject_ID %in% all_missing_values)\n",
    "\n",
    "# Remove rows from df3\n",
    "rd_all_data <- rd_all_data[-indices_to_remove_df3, ]"
   ]
  },
  {
   "cell_type": "code",
   "execution_count": 110,
   "id": "d3ead095-af85-4f5f-99a4-0def1b67600e",
   "metadata": {},
   "outputs": [],
   "source": [
    "# Define variables with relevant ROIs\n",
    "ad_data <- ad_all_data[c(\"Subject_ID\", \"WM_Measure\", \"left_caudate\", \"right_caudate\", \"left_putamen\", \"right_putamen\", \"left_nucleus_accumbens\", \"right_nucleus_accumbens\", \"left_hippocampus\", \"right_hippocampus\", \"left_globus_pallidus_externa\", \"right_globus_pallidus_externa\", \"left_globus_pallidus_interna\", \"right_globus_pallidus_Interna\")]\n",
    "fa_data <- fa_all_data[c(\"Subject_ID\", \"WM_Measure\", \"left_caudate\", \"right_caudate\", \"left_putamen\", \"right_putamen\", \"left_nucleus_accumbens\", \"right_nucleus_accumbens\", \"left_hippocampus\", \"right_hippocampus\", \"left_globus_pallidus_externa\", \"right_globus_pallidus_externa\", \"left_globus_pallidus_interna\", \"right_globus_pallidus_Interna\")]\n",
    "md_data <- md_all_data[c(\"Subject_ID\", \"WM_Measure\", \"left_caudate\", \"right_caudate\", \"left_putamen\", \"right_putamen\", \"left_nucleus_accumbens\", \"right_nucleus_accumbens\", \"left_hippocampus\", \"right_hippocampus\", \"left_globus_pallidus_externa\", \"right_globus_pallidus_externa\", \"left_globus_pallidus_interna\", \"right_globus_pallidus_Interna\")]\n",
    "rd_data <- rd_all_data[c(\"Subject_ID\", \"WM_Measure\", \"left_caudate\", \"right_caudate\", \"left_putamen\", \"right_putamen\", \"left_nucleus_accumbens\", \"right_nucleus_accumbens\", \"left_hippocampus\", \"right_hippocampus\", \"left_globus_pallidus_externa\", \"right_globus_pallidus_externa\", \"left_globus_pallidus_interna\", \"right_globus_pallidus_Interna\")]"
   ]
  },
  {
   "cell_type": "code",
   "execution_count": 111,
   "id": "58dec546-26ea-465b-8184-35b7b0accafd",
   "metadata": {},
   "outputs": [],
   "source": [
    "# Calculate average value for each ROI for AD data\n",
    "ad_data$caudate <- rowMeans(ad_data[c(\"left_caudate\", \"right_caudate\")], na.rm = TRUE)\n",
    "ad_data$putamen <- rowMeans(ad_data[c(\"left_putamen\", \"right_putamen\")], na.rm = TRUE)\n",
    "ad_data$nacc <- rowMeans(ad_data[c(\"left_nucleus_accumbens\", \"right_nucleus_accumbens\")], na.rm = TRUE)\n",
    "ad_data$hippocampus <- rowMeans(ad_data[c(\"left_hippocampus\", \"right_hippocampus\")], na.rm = TRUE)\n",
    "ad_data$pallidum <- rowMeans(ad_data[c(\"left_globus_pallidus_externa\", \"right_globus_pallidus_externa\", \"left_globus_pallidus_interna\", \"right_globus_pallidus_Interna\")], na.rm = TRUE)\n",
    "\n",
    "# Calculate average value for each ROI for FA data\n",
    "fa_data$caudate <- rowMeans(fa_data[c(\"left_caudate\", \"right_caudate\")], na.rm = TRUE)\n",
    "fa_data$putamen <- rowMeans(fa_data[c(\"left_putamen\", \"right_putamen\")], na.rm = TRUE)\n",
    "fa_data$nacc <- rowMeans(fa_data[c(\"left_nucleus_accumbens\", \"right_nucleus_accumbens\")], na.rm = TRUE)\n",
    "fa_data$hippocampus <- rowMeans(fa_data[c(\"left_hippocampus\", \"right_hippocampus\")], na.rm = TRUE)\n",
    "fa_data$pallidum <- rowMeans(fa_data[c(\"left_globus_pallidus_externa\", \"right_globus_pallidus_externa\", \"left_globus_pallidus_interna\", \"right_globus_pallidus_Interna\")], na.rm = TRUE)\n",
    "\n",
    "# Calculate average value for each ROI for MD data\n",
    "md_data$caudate <- rowMeans(md_data[c(\"left_caudate\", \"right_caudate\")], na.rm = TRUE)\n",
    "md_data$putamen <- rowMeans(md_data[c(\"left_putamen\", \"right_putamen\")], na.rm = TRUE)\n",
    "md_data$nacc <- rowMeans(md_data[c(\"left_nucleus_accumbens\", \"right_nucleus_accumbens\")], na.rm = TRUE)\n",
    "md_data$hippocampus <- rowMeans(md_data[c(\"left_hippocampus\", \"right_hippocampus\")], na.rm = TRUE)\n",
    "md_data$pallidum <- rowMeans(md_data[c(\"left_globus_pallidus_externa\", \"right_globus_pallidus_externa\", \"left_globus_pallidus_interna\", \"right_globus_pallidus_Interna\")], na.rm = TRUE)\n",
    "\n",
    "# Calculate average value for each ROI for RD data\n",
    "rd_data$caudate <- rowMeans(rd_data[c(\"left_caudate\", \"right_caudate\")], na.rm = TRUE)\n",
    "rd_data$putamen <- rowMeans(rd_data[c(\"left_putamen\", \"right_putamen\")], na.rm = TRUE)\n",
    "rd_data$nacc <- rowMeans(rd_data[c(\"left_nucleus_accumbens\", \"right_nucleus_accumbens\")], na.rm = TRUE)\n",
    "rd_data$hippocampus <- rowMeans(rd_data[c(\"left_hippocampus\", \"right_hippocampus\")], na.rm = TRUE)\n",
    "rd_data$pallidum <- rowMeans(rd_data[c(\"left_globus_pallidus_externa\", \"right_globus_pallidus_externa\", \"left_globus_pallidus_interna\", \"right_globus_pallidus_Interna\")], na.rm = TRUE)"
   ]
  },
  {
   "cell_type": "code",
   "execution_count": 113,
   "id": "25247f8e-18fc-4978-ac63-6c990e875f1b",
   "metadata": {},
   "outputs": [
    {
     "data": {
      "text/html": [
       "2.284904"
      ],
      "text/latex": [
       "2.284904"
      ],
      "text/markdown": [
       "2.284904"
      ],
      "text/plain": [
       "[1] 2.284904"
      ]
     },
     "metadata": {},
     "output_type": "display_data"
    },
    {
     "data": {
      "image/png": "[encoded data removed]",
      "text/plain": [
       "Plot with title “Histogram of ad_data$putamen”"
      ]
     },
     "metadata": {
      "image/png": {
       "height": 420,
       "width": 420
      }
     },
     "output_type": "display_data"
    }
   ],
   "source": [
    "hist(ad_data$putamen)\n",
    "max(ad_data$putamen)"
   ]
  },
  {
   "cell_type": "code",
   "execution_count": 114,
   "id": "d0b7892f-e973-412a-b060-6fb59e04bc20",
   "metadata": {},
   "outputs": [],
   "source": [
    "# Remove outliers for AD data\n",
    "Q3_c=as.numeric(quantile(ad_data$caudate,0.75, na.rm=TRUE))\n",
    "Q1_c=as.numeric(quantile(ad_data$caudate,0.25, na.rm=TRUE))\n",
    "upper_c=Q3_c+(2.2*(Q3_c-Q1_c))\n",
    "lower_c=Q1_c-(2.2*(Q3_c-Q1_c))\n",
    "Q3_pu=as.numeric(quantile(ad_data$putamen,0.75, na.rm=TRUE))\n",
    "Q1_pu=as.numeric(quantile(ad_data$putamen,0.25, na.rm=TRUE))\n",
    "upper_pu=Q3_pu+(2.2*(Q3_pu-Q1_pu))\n",
    "lower_pu=Q1_pu-(2.2*(Q3_pu-Q1_pu))\n",
    "Q3_n=as.numeric(quantile(ad_data$nacc,0.75, na.rm=TRUE))\n",
    "Q1_n=as.numeric(quantile(ad_data$nacc,0.25, na.rm=TRUE))\n",
    "upper_n=Q3_n+(2.2*(Q3_n-Q1_n))\n",
    "lower_n=Q1_n-(2.2*(Q3_n-Q1_n))\n",
    "Q3_h=as.numeric(quantile(ad_data$hippocampus,0.75, na.rm=TRUE))\n",
    "Q1_h=as.numeric(quantile(ad_data$hippocampus,0.25, na.rm=TRUE))\n",
    "upper_h=Q3_h+(2.2*(Q3_h-Q1_h))\n",
    "lower_h=Q1_h-(2.2*(Q3_h-Q1_h))\n",
    "Q3_pa=as.numeric(quantile(ad_data$pallidum,0.75, na.rm=TRUE))\n",
    "Q1_pa=as.numeric(quantile(ad_data$pallidum,0.25, na.rm=TRUE))\n",
    "upper_pa=Q3_pa+(2.2*(Q3_pa-Q1_pa))\n",
    "lower_pa=Q1_pa-(2.2*(Q3_pa-Q1_pa))\n",
    "ad_data$caudate[ad_data$caudate<lower_c]=NA\n",
    "ad_data$caudate[ad_data$caudate>upper_c]=NA\n",
    "ad_data$putamen[ad_data$putamen<lower_pu]=NA\n",
    "ad_data$putamen[ad_data$putamen>upper_pu]=NA\n",
    "ad_data$nacc[ad_data$nacc<lower_n]=NA\n",
    "ad_data$nacc[ad_data$nacc>upper_n]=NA\n",
    "ad_data$hippocampus[ad_data$hippocampus<lower_h]=NA\n",
    "ad_data$hippocampus[ad_data$hippocampus>upper_h]=NA\n",
    "ad_data$pallidum[ad_data$pallidum<lower_pa]=NA\n",
    "ad_data$pallidum[ad_data$pallidum>upper_pa]=NA\n",
    "\n",
    "# Remove outliers for FA data\n",
    "Q3_c=as.numeric(quantile(fa_data$caudate,0.75, na.rm=TRUE))\n",
    "Q1_c=as.numeric(quantile(fa_data$caudate,0.25, na.rm=TRUE))\n",
    "upper_c=Q3_c+(2.2*(Q3_c-Q1_c))\n",
    "lower_c=Q1_c-(2.2*(Q3_c-Q1_c))\n",
    "Q3_pu=as.numeric(quantile(fa_data$putamen,0.75, na.rm=TRUE))\n",
    "Q1_pu=as.numeric(quantile(fa_data$putamen,0.25, na.rm=TRUE))\n",
    "upper_pu=Q3_pu+(2.2*(Q3_pu-Q1_pu))\n",
    "lower_pu=Q1_pu-(2.2*(Q3_pu-Q1_pu))\n",
    "Q3_n=as.numeric(quantile(fa_data$nacc,0.75, na.rm=TRUE))\n",
    "Q1_n=as.numeric(quantile(fa_data$nacc,0.25, na.rm=TRUE))\n",
    "upper_n=Q3_n+(2.2*(Q3_n-Q1_n))\n",
    "lower_n=Q1_n-(2.2*(Q3_n-Q1_n))\n",
    "Q3_h=as.numeric(quantile(fa_data$hippocampus,0.75, na.rm=TRUE))\n",
    "Q1_h=as.numeric(quantile(fa_data$hippocampus,0.25, na.rm=TRUE))\n",
    "upper_h=Q3_h+(2.2*(Q3_h-Q1_h))\n",
    "lower_h=Q1_h-(2.2*(Q3_h-Q1_h))\n",
    "Q3_pa=as.numeric(quantile(fa_data$pallidum,0.75, na.rm=TRUE))\n",
    "Q1_pa=as.numeric(quantile(fa_data$pallidum,0.25, na.rm=TRUE))\n",
    "upper_pa=Q3_pa+(2.2*(Q3_pa-Q1_pa))\n",
    "lower_pa=Q1_pa-(2.2*(Q3_pa-Q1_pa))\n",
    "fa_data$caudate[fa_data$caudate<lower_c]=NA\n",
    "fa_data$caudate[fa_data$caudate>upper_c]=NA\n",
    "fa_data$putamen[fa_data$putamen<lower_pu]=NA\n",
    "fa_data$putamen[fa_data$putamen>upper_pu]=NA\n",
    "fa_data$nacc[fa_data$nacc<lower_n]=NA\n",
    "fa_data$nacc[fa_data$nacc>upper_n]=NA\n",
    "fa_data$hippocampus[fa_data$hippocampus<lower_h]=NA\n",
    "fa_data$hippocampus[fa_data$hippocampus>upper_h]=NA\n",
    "fa_data$pallidum[fa_data$pallidum<lower_pa]=NA\n",
    "fa_data$pallidum[fa_data$pallidum>upper_pa]=NA\n",
    "\n",
    "# Remove outliers for MD data\n",
    "Q3_c=as.numeric(quantile(md_data$caudate,0.75, na.rm=TRUE))\n",
    "Q1_c=as.numeric(quantile(md_data$caudate,0.25, na.rm=TRUE))\n",
    "upper_c=Q3_c+(2.2*(Q3_c-Q1_c))\n",
    "lower_c=Q1_c-(2.2*(Q3_c-Q1_c))\n",
    "Q3_pu=as.numeric(quantile(md_data$putamen,0.75, na.rm=TRUE))\n",
    "Q1_pu=as.numeric(quantile(md_data$putamen,0.25, na.rm=TRUE))\n",
    "upper_pu=Q3_pu+(2.2*(Q3_pu-Q1_pu))\n",
    "lower_pu=Q1_pu-(2.2*(Q3_pu-Q1_pu))\n",
    "Q3_n=as.numeric(quantile(md_data$nacc,0.75, na.rm=TRUE))\n",
    "Q1_n=as.numeric(quantile(md_data$nacc,0.25, na.rm=TRUE))\n",
    "upper_n=Q3_n+(2.2*(Q3_n-Q1_n))\n",
    "lower_n=Q1_n-(2.2*(Q3_n-Q1_n))\n",
    "Q3_h=as.numeric(quantile(md_data$hippocampus,0.75, na.rm=TRUE))\n",
    "Q1_h=as.numeric(quantile(md_data$hippocampus,0.25, na.rm=TRUE))\n",
    "upper_h=Q3_h+(2.2*(Q3_h-Q1_h))\n",
    "lower_h=Q1_h-(2.2*(Q3_h-Q1_h))\n",
    "Q3_pa=as.numeric(quantile(md_data$pallidum,0.75, na.rm=TRUE))\n",
    "Q1_pa=as.numeric(quantile(md_data$pallidum,0.25, na.rm=TRUE))\n",
    "upper_pa=Q3_pa+(2.2*(Q3_pa-Q1_pa))\n",
    "lower_pa=Q1_pa-(2.2*(Q3_pa-Q1_pa))\n",
    "md_data$caudate[md_data$caudate<lower_c]=NA\n",
    "md_data$caudate[md_data$caudate>upper_c]=NA\n",
    "md_data$putamen[md_data$putamen<lower_pu]=NA\n",
    "md_data$putamen[md_data$putamen>upper_pu]=NA\n",
    "md_data$nacc[md_data$nacc<lower_n]=NA\n",
    "md_data$nacc[md_data$nacc>upper_n]=NA\n",
    "md_data$hippocampus[md_data$hippocampus<lower_h]=NA\n",
    "md_data$hippocampus[md_data$hippocampus>upper_h]=NA\n",
    "md_data$pallidum[md_data$pallidum<lower_pa]=NA\n",
    "md_data$pallidum[md_data$pallidum>upper_pa]=NA\n",
    "\n",
    "# Remove outliers for RD data\n",
    "Q3_c=as.numeric(quantile(rd_data$caudate,0.75, na.rm=TRUE))\n",
    "Q1_c=as.numeric(quantile(rd_data$caudate,0.25, na.rm=TRUE))\n",
    "upper_c=Q3_c+(2.2*(Q3_c-Q1_c))\n",
    "lower_c=Q1_c-(2.2*(Q3_c-Q1_c))\n",
    "Q3_pu=as.numeric(quantile(rd_data$putamen,0.75, na.rm=TRUE))\n",
    "Q1_pu=as.numeric(quantile(rd_data$putamen,0.25, na.rm=TRUE))\n",
    "upper_pu=Q3_pu+(2.2*(Q3_pu-Q1_pu))\n",
    "lower_pu=Q1_pu-(2.2*(Q3_pu-Q1_pu))\n",
    "Q3_n=as.numeric(quantile(rd_data$nacc,0.75, na.rm=TRUE))\n",
    "Q1_n=as.numeric(quantile(rd_data$nacc,0.25, na.rm=TRUE))\n",
    "upper_n=Q3_n+(2.2*(Q3_n-Q1_n))\n",
    "lower_n=Q1_n-(2.2*(Q3_n-Q1_n))\n",
    "Q3_h=as.numeric(quantile(rd_data$hippocampus,0.75, na.rm=TRUE))\n",
    "Q1_h=as.numeric(quantile(rd_data$hippocampus,0.25, na.rm=TRUE))\n",
    "upper_h=Q3_h+(2.2*(Q3_h-Q1_h))\n",
    "lower_h=Q1_h-(2.2*(Q3_h-Q1_h))\n",
    "Q3_pa=as.numeric(quantile(rd_data$pallidum,0.75, na.rm=TRUE))\n",
    "Q1_pa=as.numeric(quantile(rd_data$pallidum,0.25, na.rm=TRUE))\n",
    "upper_pa=Q3_pa+(2.2*(Q3_pa-Q1_pa))\n",
    "lower_pa=Q1_pa-(2.2*(Q3_pa-Q1_pa))\n",
    "rd_data$caudate[rd_data$caudate<lower_c]=NA\n",
    "rd_data$caudate[rd_data$caudate>upper_c]=NA\n",
    "rd_data$putamen[rd_data$putamen<lower_pu]=NA\n",
    "rd_data$putamen[rd_data$putamen>upper_pu]=NA\n",
    "rd_data$nacc[rd_data$nacc<lower_n]=NA\n",
    "rd_data$nacc[rd_data$nacc>upper_n]=NA\n",
    "rd_data$hippocampus[rd_data$hippocampus<lower_h]=NA\n",
    "rd_data$hippocampus[rd_data$hippocampus>upper_h]=NA\n",
    "rd_data$pallidum[rd_data$pallidum<lower_pa]=NA\n",
    "rd_data$pallidum[rd_data$pallidum>upper_pa]=NA"
   ]
  },
  {
   "cell_type": "code",
   "execution_count": 115,
   "id": "4e402eec-1101-4d54-957a-3a457caed6c7",
   "metadata": {},
   "outputs": [
    {
     "data": {
      "text/html": [
       "&lt;NA&gt;"
      ],
      "text/latex": [
       "<NA>"
      ],
      "text/markdown": [
       "&lt;NA&gt;"
      ],
      "text/plain": [
       "[1] NA"
      ]
     },
     "metadata": {},
     "output_type": "display_data"
    },
    {
     "data": {
      "image/png": "[encoded data removed]",
      "text/plain": [
       "Plot with title “Histogram of ad_data$putamen”"
      ]
     },
     "metadata": {
      "image/png": {
       "height": 420,
       "width": 420
      }
     },
     "output_type": "display_data"
    }
   ],
   "source": [
    "hist(ad_data$putamen)\n",
    "max(ad_data$putamen)"
   ]
  },
  {
   "cell_type": "code",
   "execution_count": 116,
   "id": "099a810b-fe9e-43ff-b57a-e4b9f549b7e8",
   "metadata": {},
   "outputs": [],
   "source": [
    "# Rename column names to patient DTI data frames\n",
    "colnames(patient_data)[colnames(patient_data) == \"eid\"] <- \"Subject_ID\""
   ]
  },
  {
   "cell_type": "code",
   "execution_count": 117,
   "id": "4d9b57a3-8eed-44a2-a17f-08a0302d3785",
   "metadata": {
    "tags": []
   },
   "outputs": [],
   "source": [
    "# Merge DTI data frames with relevant patient variables\n",
    "subj_data <- patient_data[c(\"Subject_ID\", \"sex_31.0.0\", \"age_when_attended_assessment_centre_21003.2.0\", \"volume_of_estimatedtotalintracranial_whole_brain_26521.2.0\", \"uk_biobank_assessment_centre_54.2.0\", \"mean_tfmri_head_motion_averaged_across_space_and_time_points_25742.2.0\", \"mean_rfmri_head_motion_averaged_across_space_and_time_points_25741.2.0\", \"date_of_attending_assessment_centre_53.2.0\", \"body_mass_index_bmi_21001.2.0\", \"c.reactive_protein_30710.0.0\", \"glucose_30740.0.0\", \"glycated_haemoglobin_hba1c_30750.0.0\", \"cholesterol_30690.0.0\", \"hdl_cholesterol_30760.0.0\", \"ldl_direct_30780.0.0\", \"triglycerides_30870.0.0\", \"systolic_blood_pressure_automated_reading_4080.0.1\", \"diastolic_blood_pressure_automated_reading_4079.0.1\")]\n",
    "ad_subj_data=merge(subj_data, ad_data)\n",
    "fa_subj_data=merge(subj_data, fa_data)\n",
    "md_subj_data=merge(subj_data, md_data)\n",
    "rd_subj_data=merge(subj_data, rd_data)"
   ]
  },
  {
   "cell_type": "code",
   "execution_count": 118,
   "id": "b69c5ba6-c456-4edb-b1c8-84258389fe53",
   "metadata": {},
   "outputs": [],
   "source": [
    "# Extract previously calculated hypothalamus data from scatter_plots_UKBB.ipynb\n",
    "hypo_ad <- read.csv(\"~/linear_regression/UKBB_ad_data.csv\")\n",
    "hypo_fa <- read.csv(\"~/linear_regression/UKBB_fa_data.csv\")\n",
    "hypo_md <- read.csv(\"~/linear_regression/UKBB_md_data.csv\")\n",
    "hypo_rd <- read.csv(\"~/linear_regression/UKBB_rd_data.csv\")"
   ]
  },
  {
   "cell_type": "code",
   "execution_count": 119,
   "id": "2894f1ae-1d6b-4a1d-bb8a-21e6535461e5",
   "metadata": {},
   "outputs": [],
   "source": [
    "indices_to_remove_df1 <- which(hypo_fa$Subject_ID %in% all_missing_values)\n",
    "\n",
    "# Remove rows from df1\n",
    "hypo_fa <- hypo_fa[-indices_to_remove_df1, ]\n",
    "\n",
    "# Find the indices of rows to be removed in df2\n",
    "indices_to_remove_df2 <- which(hypo_md$Subject_ID %in% all_missing_values)\n",
    "\n",
    "# Remove rows from df2\n",
    "hypo_md <- hypo_md[-indices_to_remove_df2, ]\n",
    "\n",
    "# Find the indices of rows to be removed in df3\n",
    "indices_to_remove_df3 <- which(hypo_rd$Subject_ID %in% all_missing_values)\n",
    "\n",
    "# Remove rows from df3\n",
    "hypo_rd <- hypo_rd[-indices_to_remove_df3, ]"
   ]
  },
  {
   "cell_type": "code",
   "execution_count": 120,
   "id": "7bc41306-1cdd-4ec7-8fc4-098fd0cf2df4",
   "metadata": {
    "tags": []
   },
   "outputs": [],
   "source": [
    "# Add hypothalamic values to subject data frames\n",
    "ad_subj_data$full_hypo <- hypo_ad$full_hypo\n",
    "fa_subj_data$full_hypo <- hypo_fa$full_hypo\n",
    "md_subj_data$full_hypo <- hypo_md$full_hypo\n",
    "rd_subj_data$full_hypo <- hypo_rd$full_hypo"
   ]
  },
  {
   "cell_type": "code",
   "execution_count": 121,
   "id": "b45d7af4-5aa0-492d-a455-1f2331edb3cf",
   "metadata": {},
   "outputs": [],
   "source": [
    "# Remove outliers for hypothalamic AD data\n",
    "Q3=as.numeric(quantile(ad_subj_data$full_hypo,0.75, na.rm=TRUE))\n",
    "Q1=as.numeric(quantile(ad_subj_data$full_hypo,0.25, na.rm=TRUE))\n",
    "upper=Q3+(2.2*(Q3-Q1))\n",
    "lower=Q1-(2.2*(Q3-Q1))\n",
    "ad_subj_data$full_hypo[ad_subj_data$full_hypo<lower]=NA\n",
    "ad_subj_data$full_hypo[ad_subj_data$full_hypo>upper]=NA\n",
    "\n",
    "# Remove outliers for hypothalamic Fa data\n",
    "Q3=as.numeric(quantile(fa_subj_data$full_hypo,0.75, na.rm=TRUE))\n",
    "Q1=as.numeric(quantile(fa_subj_data$full_hypo,0.25, na.rm=TRUE))\n",
    "upper=Q3+(2.2*(Q3-Q1))\n",
    "lower=Q1-(2.2*(Q3-Q1))\n",
    "fa_subj_data$full_hypo[fa_subj_data$full_hypo<lower]=NA\n",
    "fa_subj_data$full_hypo[fa_subj_data$full_hypo>upper]=NA\n",
    "\n",
    "# Remove outliers for hypothalamic MD data\n",
    "Q3=as.numeric(quantile(md_subj_data$full_hypo,0.75, na.rm=TRUE))\n",
    "Q1=as.numeric(quantile(md_subj_data$full_hypo,0.25, na.rm=TRUE))\n",
    "upper=Q3+(2.2*(Q3-Q1))\n",
    "lower=Q1-(2.2*(Q3-Q1))\n",
    "md_subj_data$full_hypo[md_subj_data$full_hypo<lower]=NA\n",
    "md_subj_data$full_hypo[md_subj_data$full_hypo>upper]=NA\n",
    "\n",
    "# Remove outliers for hypothalamic RD data\n",
    "Q3=as.numeric(quantile(rd_subj_data$full_hypo,0.75, na.rm=TRUE))\n",
    "Q1=as.numeric(quantile(rd_subj_data$full_hypo,0.25, na.rm=TRUE))\n",
    "upper=Q3+(2.2*(Q3-Q1))\n",
    "lower=Q1-(2.2*(Q3-Q1))\n",
    "rd_subj_data$full_hypo[rd_subj_data$full_hypo<lower]=NA\n",
    "rd_subj_data$full_hypo[rd_subj_data$full_hypo>upper]=NA"
   ]
  },
  {
   "cell_type": "code",
   "execution_count": 122,
   "id": "c57d820a-d1ea-4f20-8b0e-a42a3274b4d4",
   "metadata": {
    "tags": []
   },
   "outputs": [],
   "source": [
    "# Write CSV files for DTI data frames\n",
    "write.csv(ad_subj_data, \"~/linear_regression/UKBB_ad_data_other.csv\")\n",
    "write.csv(fa_subj_data, \"~/linear_regression/UKBB_fa_data_other.csv\")\n",
    "write.csv(md_subj_data, \"~/linear_regression/UKBB_md_data_other.csv\")\n",
    "write.csv(rd_subj_data, \"~/linear_regression/UKBB_rd_data_other.csv\")"
   ]
  },
  {
   "cell_type": "code",
   "execution_count": 123,
   "id": "8bc31f0d-6090-46cb-aebb-4e159bee506f",
   "metadata": {},
   "outputs": [],
   "source": [
    "# It takes a while to load UKB_WM_Regionwise_Data_allAtlases_allMeasures.csv,\n",
    "# so if the code needs to edited you can start from here by redefining the\n",
    "# variables from the prewritten CSV files\n",
    "ad_subj_data <- read.csv(\"~/linear_regression/UKBB_ad_data_other.csv\")\n",
    "fa_subj_data <- read.csv(\"~/linear_regression/UKBB_fa_data_other.csv\")\n",
    "md_subj_data <- read.csv(\"~/linear_regression/UKBB_md_data_other.csv\")\n",
    "rd_subj_data <- read.csv(\"~/linear_regression/UKBB_rd_data_other.csv\")"
   ]
  },
  {
   "cell_type": "code",
   "execution_count": 124,
   "id": "49d5d119-2d29-4d92-8045-884244bd7aae",
   "metadata": {},
   "outputs": [],
   "source": [
    "# Define necessary variables\n",
    "subject_data <- list(ad_subj_data, fa_subj_data, md_subj_data, rd_subj_data)\n",
    "subject_datasets <- c(\"ad\", \"fa\", \"md\", \"rd\")\n",
    "brain_regions <- c(\"caudate\", \"putamen\", \"nacc\", \"hippocampus\", \"pallidum\", \"full_hypo\")\n",
    "vars <- c(\"BMI\", \"CRP\", \"Glucose\", \"HBA1C\", \"Cholesterol\", \"HDL_Chol\", \"LDL_Chol\", \"Triglycerides\", \"Systolic_BP\", \"Diastolic_BP\")\n",
    "variables <- c(\"body_mass_index_bmi_21001.2.0\", \"c.reactive_protein_30710.0.0\", \n",
    "                        \"glucose_30740.0.0\", \"glycated_haemoglobin_hba1c_30750.0.0\", \n",
    "                        \"cholesterol_30690.0.0\", \"hdl_cholesterol_30760.0.0\", \n",
    "                        \"ldl_direct_30780.0.0\", \"triglycerides_30870.0.0\", \n",
    "                        \"systolic_blood_pressure_automated_reading_4080.0.1\", \n",
    "                        \"diastolic_blood_pressure_automated_reading_4079.0.1\")\n",
    "all_data_summary <- data.frame()"
   ]
  },
  {
   "cell_type": "code",
   "execution_count": 125,
   "id": "90aa657e-1eb0-46f4-87fe-f0e1cebe092b",
   "metadata": {
    "tags": []
   },
   "outputs": [],
   "source": [
    "# Loop through the DTI measure data frames\n",
    "for (i in seq_along(subject_data)) {\n",
    "    current_data <- subject_data[[i]]\n",
    "    j=1\n",
    "    # Loop through each brain region\n",
    "    for (region in brain_regions) {\n",
    "        k=1\n",
    "        # Loop through each obesity-related parameter\n",
    "        for (variable in variables) {\n",
    "            # Calculate regression for current region, parameter, and data frame\n",
    "            lm_model <- lm(get(region) ~ get(variable) + \n",
    "                           age_when_attended_assessment_centre_21003.2.0 + \n",
    "                           poly(age_when_attended_assessment_centre_21003.2.0, 2, raw=TRUE) * sex_31.0.0 +\n",
    "                           poly(difftime(as.Date(date_of_attending_assessment_centre_53.2.0),\n",
    "                                min(as.Date(date_of_attending_assessment_centre_53.2.0)), units='days'), 2, raw=TRUE) + \n",
    "                           uk_biobank_assessment_centre_54.2.0 + \n",
    "                           volume_of_estimatedtotalintracranial_whole_brain_26521.2.0, data = current_data)\n",
    "            summary_model <- summary(lm_model)\n",
    "            values <- data.frame(summary_model$coefficients[2,])\n",
    "            values <- as.data.frame(t(values))\n",
    "            # Create necessary columns to make the data frame more readable\n",
    "            values$metric <- subject_datasets[i]\n",
    "            values$region <- region\n",
    "            values$measure <- vars[k]\n",
    "            # Rename row names to relevant patient information\n",
    "            row_name <- paste(subject_datasets[i],\"_\", region, \"_\", variable)\n",
    "            rownames(values) <- row_name \n",
    "            all_data_summary <- rbind(all_data_summary, values)\n",
    "            k=k+1\n",
    "        j=j+1\n",
    "        }\n",
    "    }\n",
    "}\n"
   ]
  },
  {
   "cell_type": "code",
   "execution_count": 127,
   "id": "2002c6cf-d5e9-4b6e-9768-28629792b227",
   "metadata": {},
   "outputs": [],
   "source": [
    "# Write CSV file for summarized UKBB data\n",
    "write.csv(all_data_summary, \"~/linear_regression/UKBB_all_data_summary.csv\")"
   ]
  },
  {
   "cell_type": "code",
   "execution_count": null,
   "id": "ad830400-0725-4b53-a648-c3943bf02903",
   "metadata": {},
   "outputs": [],
   "source": []
  }
 ],
 "metadata": {
  "kernelspec": {
   "display_name": "R",
   "language": "R",
   "name": "ir"
  },
  "language_info": {
   "codemirror_mode": "r",
   "file_extension": ".r",
   "mimetype": "text/x-r-source",
   "name": "R",
   "pygments_lexer": "r",
   "version": "4.3.1"
  }
 },
 "nbformat": 4,
 "nbformat_minor": 5
}
