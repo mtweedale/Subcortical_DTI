{
 "cells": [
  {
   "cell_type": "code",
   "execution_count": 1,
   "id": "05270f68-5740-4fae-a93a-7ac208619bf3",
   "metadata": {
    "collapsed": true,
    "jupyter": {
     "outputs_hidden": true
    },
    "tags": []
   },
   "outputs": [
    {
     "name": "stderr",
     "output_type": "stream",
     "text": [
      "\n",
      "Attaching package: ‘dplyr’\n",
      "\n",
      "\n",
      "The following objects are masked from ‘package:stats’:\n",
      "\n",
      "    filter, lag\n",
      "\n",
      "\n",
      "The following objects are masked from ‘package:base’:\n",
      "\n",
      "    intersect, setdiff, setequal, union\n",
      "\n",
      "\n",
      "oro.nifti 0.11.4\n",
      "\n",
      "\n",
      "Attaching package: ‘oro.nifti’\n",
      "\n",
      "\n",
      "The following object is masked from ‘package:dplyr’:\n",
      "\n",
      "    slice\n",
      "\n",
      "\n",
      "The following object is masked from ‘package:RNifti’:\n",
      "\n",
      "    origin\n",
      "\n",
      "\n"
     ]
    }
   ],
   "source": [
    "library(RNifti)\n",
    "library(dplyr)\n",
    "library(oro.nifti)"
   ]
  },
  {
   "cell_type": "code",
   "execution_count": 2,
   "id": "8d7b9a7c-3414-4c78-b7f0-b52af29d1249",
   "metadata": {},
   "outputs": [],
   "source": [
    "results_dir <- \"scratch/tractoflow_hcp_dwi/results/\"\n",
    "patients <- list.files(results_dir, full.names = TRUE)\n",
    "patients <- patients[grep(\"^\\\\d{6}$\", basename(patients))]\n",
    "patient_data <- read.csv(\"scratch/tractoflow_hcp_dwi/patient_data.csv\")\n",
    "patient_data_gender <- read.csv(\"scratch/tractoflow_hcp_dwi/patient_data_gender.csv\")\n",
    "subj_data <- patient_data[c(\"Subject\", \"Age_in_Yrs\", \"BMI\", \"SSAGA_Income\", \"SSAGA_Educ\", \"BPSystolic\", \"BPDiastolic\", \"HbA1C\")]\n",
    "subj_data_gender <- patient_data_gender[c(\"Subject\", \"Gender\")]\n",
    "subj_data=merge(subj_data, subj_data_gender)\n",
    "rois <- c(\"caudate_spm\", \"hippocampus_spm\", \"nacc_spm\", \"pallidum_spm\", \"putamen_spm\")"
   ]
  },
  {
   "cell_type": "code",
   "execution_count": 3,
   "id": "0c7d262e-51d5-4b69-b7e6-e88eed4f16f7",
   "metadata": {
    "tags": []
   },
   "outputs": [],
   "source": [
    "roi_data <- data.frame(Subject=character(0))\n",
    "for (i in 1:length(patients)) {\n",
    "    var_names <-list()\n",
    "    data <-list()\n",
    "    avg_vals <- list()\n",
    "    for (roi in 1:length(rois)) {\n",
    "        if (i==1) {\n",
    "            roi_data[[rois[roi]]] <- numeric(0)\n",
    "        }\n",
    "        var_names[[roi]] <- file.path(\"scratch\", \"tractoflow_hcp_dwi\", \"subject_other_rois\", basename(patients[i]), \"ad_rois\", paste0(basename(patients[i]), \"_ad_\", rois[roi], \"_bin_resampled.nii.gz\"))\n",
    "        data[[roi]] <- readNifti(var_names[[roi]])\n",
    "        non_zero_vals <- data[[roi]]\n",
    "        non_zero_vals <- non_zero_vals[non_zero_vals > 0]\n",
    "        avg_val <- mean(non_zero_vals)\n",
    "        avg_vals <- append(avg_vals, avg_val)\n",
    "        temp_data <- data.frame(Subject=basename(patients[i]), avg_vals)\n",
    "    }\n",
    "    colnames(temp_data)=c(\"Subject\", rois)\n",
    "    roi_data <- rbind(roi_data, temp_data)\n",
    "}\n",
    "subj_data <- merge(subj_data, roi_data)\n",
    "write.csv(subj_data, \"scratch/tractoflow_hcp_dwi/linear_regression/ad_other_rois.csv\")"
   ]
  }
 ],
 "metadata": {
  "kernelspec": {
   "display_name": "R",
   "language": "R",
   "name": "ir"
  },
  "language_info": {
   "codemirror_mode": "r",
   "file_extension": ".r",
   "mimetype": "text/x-r-source",
   "name": "R",
   "pygments_lexer": "r",
   "version": "4.3.1"
  }
 },
 "nbformat": 4,
 "nbformat_minor": 5
}
